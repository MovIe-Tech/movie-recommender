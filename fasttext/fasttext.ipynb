{
 "cells": [
  {
   "cell_type": "code",
   "execution_count": 1,
   "metadata": {},
   "outputs": [
    {
     "name": "stdout",
     "output_type": "stream",
     "text": [
      "Requirement already satisfied: mecab-python3 in /Users/nao/anaconda3/lib/python3.7/site-packages (0.996.2)\n"
     ]
    }
   ],
   "source": [
    "import pandas as pd\n",
    "import numpy as np\n",
    "import sys\n",
    "!pip install mecab-python3\n",
    "import MeCab\n",
    "import fasttext\n",
    "#!pip install gensim\n",
    "from gensim.models.wrappers.fasttext import FastText\n",
    "import time\n",
    "import datetime"
   ]
  },
  {
   "cell_type": "code",
   "execution_count": 2,
   "metadata": {},
   "outputs": [],
   "source": [
    "## 基本形で分かち書きをする関数\n",
    "\n",
    "def analysis(text):\n",
    "    # tagger = MeCab.Tagger(\"-Ochasen\")\n",
    "    tagger = MeCab.Tagger('-d /usr/local/lib/mecab/dic/mecab-ipadic-neologd')\n",
    "    tagger.parse(\"\")\n",
    "    node = tagger.parseToNode(text)\n",
    "    word = \"\"\n",
    "    pre_feature = \"\"\n",
    "    while node:\n",
    "         # 名詞、形容詞、動詞、形容動詞であるかを判定する。\n",
    "        isUsed = \"名詞\" in node.feature\n",
    "        isUsed = \"形容詞\" in node.feature or isUsed\n",
    "        isUsed = \"動詞\" in node.feature or isUsed\n",
    "        isUsed = \"形容動詞\" in node.feature or isUsed\n",
    "         # 以下に該当する場合は除外する。（ストップワード）\n",
    "        isUsed = (not \"代名詞\" in node.feature) and isUsed\n",
    "        isUsed = (not \"助動詞\" in node.feature) and isUsed\n",
    "        isUsed = (not \"非自立\" in node.feature) and isUsed\n",
    "        isUsed = (not \"数\" in node.feature) and isUsed\n",
    "        isUsed = (not \"人名\" in node.feature) and isUsed\n",
    "        if isUsed:\n",
    "            word += \" {0}\".format(node.feature.split(\",\")[6])\n",
    "        '''\n",
    "        if isUsed:\n",
    "            if (\"名詞接続\" in pre_feature and \"名詞\" in node.feature) or (\"接尾\" in node.feature):\n",
    "            word += \"{0}\".format(node.surface)\n",
    "        else:\n",
    "        word += \" {0}\".format(node.surface)\n",
    "        #print(\"{0}{1}\".format(node.surface, node.feature))\n",
    "        '''\n",
    "        pre_feature = node.feature\n",
    "        node = node.next\n",
    "    return word[1:]"
   ]
  },
  {
   "cell_type": "code",
   "execution_count": 3,
   "metadata": {},
   "outputs": [],
   "source": [
    "# 作品ごとの単語のリストと作品タイトルのリストを出力\n",
    "def preprocess_reviews(data_path, stopwords_path):\n",
    "    ## csvの読み込み\n",
    "    df = pd.read_csv(data_path, encoding='utf-8', dtype={'Rating Score':'float'})\n",
    "    df = df.dropna(axis=0, how='all', subset=['reviews'])\n",
    "    ## lists of reviews and titles\n",
    "    reviews_list = df['reviews'].T.tolist()\n",
    "    titles_list = df['title'].T.tolist()\n",
    "    ## stopword\n",
    "    stopwords_df = pd.read_csv(stopwords_path, encoding='utf-8')\n",
    "    stopwords_list = stopwords_df.T.values.tolist()[0]\n",
    "    ## make training data\n",
    "    splitted_reviews = [analysis(reviews).split(' ') for i, reviews in enumerate(reviews_list)]\n",
    "    words_list = []\n",
    "    for i in range(len(splitted_reviews)):\n",
    "        words_list.append([word for word in splitted_reviews[i] if word not in stopwords_list])\n",
    "    return words_list, titles_list"
   ]
  },
  {
   "cell_type": "code",
   "execution_count": 4,
   "metadata": {},
   "outputs": [],
   "source": [
    "# 作品ごとの単語のリスト, 作品タイトルのリスト, idのリストを出力\n",
    "# レビューの長さを調整：デフォルトは100文字未満の映画を削除、3000字目以降の文字を削除\n",
    "def preprocess_reviews_length(data_path, stopwords_path, lower=100, upper=3000):\n",
    "    ## csvの読み込み\n",
    "    df = pd.read_csv(data_path, encoding='utf-8', dtype={'Rating Score':'float'})\n",
    "    df = df.dropna(axis=0, how='all', subset=['reviews'])\n",
    "    ## lists of reviews and titles\n",
    "    reviews_list = df['reviews'].T.tolist()\n",
    "    ## stopword\n",
    "    stopwords_df = pd.read_csv(stopwords_path, encoding='utf-8')\n",
    "    stopwords_list = stopwords_df.T.values.tolist()[0]\n",
    "    ## make training data\n",
    "    splitted_reviews = [analysis(reviews).split(' ') for i, reviews in enumerate(reviews_list)]\n",
    "    words_list = []\n",
    "    for i in range(len(splitted_reviews)):\n",
    "        words_list.append([word for word in splitted_reviews[i] if word not in stopwords_list][:upper])\n",
    "    df['reviews'] = words_list\n",
    "    for index, row in df.iterrows():\n",
    "        df.at[index, 'len'] = len(row['reviews'])\n",
    "    df = df[df['len'] >= lower]\n",
    "    words_list = df['reviews'].T.tolist()\n",
    "    titles_list = df['title'].T.tolist()\n",
    "    id_list = df['id'].T.tolist()\n",
    "    return words_list, titles_list, id_list"
   ]
  },
  {
   "cell_type": "code",
   "execution_count": 8,
   "metadata": {},
   "outputs": [],
   "source": [
    "def create_traindata(data_path, stopwords_path, save_path):\n",
    "    without_stopwords, titles_list, id_list = preprocess_reviews_length(data_path, stopwords_path)\n",
    "    trainings = \"\"\n",
    "    \n",
    "    for id, review in zip(id_list, without_stopwords):\n",
    "        trainings += \" __label__\" + str(id) + \", \" + ' '.join(review) + \"\\n\"\n",
    "    \n",
    "    with open(save_path, mode='w') as f:\n",
    "       f.write(trainings)"
   ]
  },
  {
   "cell_type": "code",
   "execution_count": 6,
   "metadata": {},
   "outputs": [],
   "source": [
    "def make_model(trainings_path, myFastText_path):\n",
    "    # save model\n",
    "    #model = fasttext.train_supervised(input=trainings_path, epoch=2000, loss=\"hs\")\n",
    "    model = fasttext.train_supervised(input=trainings_path, epoch=2000, dim=300, loss=\"hs\")\n",
    "    model.save_model(myFastText_path)"
   ]
  },
  {
   "cell_type": "code",
   "execution_count": 7,
   "metadata": {},
   "outputs": [],
   "source": [
    "def myFastText(data_path, stopwords_path, myFastText_path, titles_path):\n",
    "    #dt_now = datetime.datetime.now()\n",
    "    #print(dt_now)\n",
    "    create_traindata(data_path, stopwords_path, 'data/testdata.txt', titles_path)\n",
    "    make_model('data/testdata.txt', myFastText_path)\n",
    "    #dt_now = datetime.datetime.now()\n",
    "    #print(dt_now)"
   ]
  },
  {
   "cell_type": "code",
   "execution_count": 20,
   "metadata": {},
   "outputs": [
    {
     "name": "stdout",
     "output_type": "stream",
     "text": [
      "2020-01-07 22:17:24.584410\n",
      "2020-01-07 22:39:03.924415\n"
     ]
    }
   ],
   "source": [
    "myFastText('data/1005data.csv', 'data/stopwords.csv', 'data/model')"
   ]
  },
  {
   "cell_type": "code",
   "execution_count": 16,
   "metadata": {},
   "outputs": [],
   "source": [
    "def predict(data_path, model_path, titles_path, word, k):\n",
    "    \n",
    "    df = pd.read_csv(data_path, encoding='utf-8')\n",
    "    titles_list = df['title'].T.tolist()\n",
    "    \n",
    "    model = fasttext.load_model(model_path)\n",
    "    result = model.predict(word, k)\n",
    "    for i in range(min([k, len(result[0])])):\n",
    "        print(result[0][i].replace(\"__label__\" , \"\").replace(\",\" , \"\") + \" : \" + str(result[1][i]))\n",
    "        #label = int(result[0][i].replace(\"__label__\" , \"\").replace(\",\" , \"\"))\n",
    "        #print(str(label) + \" : \" + titles_list[label] + \" : \" + str(result[1][i]))"
   ]
  },
  {
   "cell_type": "code",
   "execution_count": 22,
   "metadata": {},
   "outputs": [
    {
     "name": "stdout",
     "output_type": "stream",
     "text": [
      "英雄は嘘がお好き : 0.5814523696899414\n",
      "人生、ただいま修行中 : 0.3005840480327606\n",
      "シカゴ : 0.04608610272407532\n",
      "ルパン三世 : 0.0287068672478199\n",
      "レインマン : 0.019582003355026245\n",
      "ワイルド・スピード／スーパーコンボ : 0.010769467800855637\n",
      "グーニーズ : 0.008044487796723843\n",
      "ボディ・ダブル : 0.0024902045261114836\n",
      "ナインスゲート : 0.0008865694981068373\n",
      "小さい魔女とワルプルギスの夜 : 0.0004548046854324639\n",
      "誰も守ってくれない : 0.0002640899911057204\n",
      "ベスト・キッド : 0.00014972529606893659\n",
      "愛の渦 : 0.00014317876775749028\n",
      "秘密　THE : 0.0001225550367962569\n",
      "ロッキー5／最後のドラマ : 0.00012201403296785429\n",
      "ミッション：インポッシブル／ゴースト・プロトコル : 0.00011743255890905857\n",
      "ピーチガール : 5.2113660785835236e-05\n",
      "ある精肉店のはなし : 5.109019548399374e-05\n",
      "ロビン・フッド : 2.6728876036941074e-05\n",
      "黒い家 : 2.1334335542633198e-05\n"
     ]
    },
    {
     "name": "stderr",
     "output_type": "stream",
     "text": [
      "\n"
     ]
    }
   ],
   "source": [
    "predict('data/1005data.csv', 'data/model', \"冒険\", 20)"
   ]
  },
  {
   "cell_type": "markdown",
   "metadata": {},
   "source": [
    "映画ID順に類似度の配列を返したい"
   ]
  },
  {
   "cell_type": "code",
   "execution_count": 15,
   "metadata": {},
   "outputs": [],
   "source": [
    "create_traindata('data/1005data.csv', 'data/stopwords.csv', 'data/testdata.txt')"
   ]
  },
  {
   "cell_type": "code",
   "execution_count": null,
   "metadata": {},
   "outputs": [],
   "source": []
  }
 ],
 "metadata": {
  "kernelspec": {
   "display_name": "Python 3",
   "language": "python",
   "name": "python3"
  },
  "language_info": {
   "codemirror_mode": {
    "name": "ipython",
    "version": 3
   },
   "file_extension": ".py",
   "mimetype": "text/x-python",
   "name": "python",
   "nbconvert_exporter": "python",
   "pygments_lexer": "ipython3",
   "version": "3.7.3"
  }
 },
 "nbformat": 4,
 "nbformat_minor": 4
}
