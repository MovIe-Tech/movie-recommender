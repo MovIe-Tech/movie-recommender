{
 "cells": [
  {
   "cell_type": "code",
   "execution_count": 1,
   "metadata": {},
   "outputs": [
    {
     "name": "stdout",
     "output_type": "stream",
     "text": [
      "Requirement already satisfied: mecab-python3 in /Users/nao/anaconda3/lib/python3.7/site-packages (0.996.2)\n"
     ]
    }
   ],
   "source": [
    "import pandas as pd\n",
    "import numpy as np\n",
    "import sys\n",
    "!pip install mecab-python3\n",
    "import MeCab\n",
    "import fasttext\n",
    "#!pip install gensim\n",
    "from gensim.models.wrappers.fasttext import FastText\n",
    "import time"
   ]
  },
  {
   "cell_type": "code",
   "execution_count": 11,
   "metadata": {},
   "outputs": [],
   "source": [
    "## 基本形で分かち書きをする関数\n",
    "\n",
    "def analysis(text):\n",
    "    # tagger = MeCab.Tagger(\"-Ochasen\")\n",
    "    tagger = MeCab.Tagger('-d /usr/local/lib/mecab/dic/mecab-ipadic-neologd')\n",
    "    tagger.parse(\"\")\n",
    "    node = tagger.parseToNode(text)\n",
    "    word = \"\"\n",
    "    pre_feature = \"\"\n",
    "    while node:\n",
    "         # 名詞、形容詞、動詞、形容動詞であるかを判定する。\n",
    "        isUsed = \"名詞\" in node.feature\n",
    "        isUsed = \"形容詞\" in node.feature or isUsed\n",
    "        isUsed = \"動詞\" in node.feature or isUsed\n",
    "        isUsed = \"形容動詞\" in node.feature or isUsed\n",
    "         # 以下に該当する場合は除外する。（ストップワード）\n",
    "        isUsed = (not \"代名詞\" in node.feature) and isUsed\n",
    "        isUsed = (not \"助動詞\" in node.feature) and isUsed\n",
    "        isUsed = (not \"非自立\" in node.feature) and isUsed\n",
    "        isUsed = (not \"数\" in node.feature) and isUsed\n",
    "        isUsed = (not \"人名\" in node.feature) and isUsed\n",
    "        if isUsed:\n",
    "            word += \" {0}\".format(node.feature.split(\",\")[6])\n",
    "        '''\n",
    "        if isUsed:\n",
    "            if (\"名詞接続\" in pre_feature and \"名詞\" in node.feature) or (\"接尾\" in node.feature):\n",
    "            word += \"{0}\".format(node.surface)\n",
    "        else:\n",
    "        word += \" {0}\".format(node.surface)\n",
    "        #print(\"{0}{1}\".format(node.surface, node.feature))\n",
    "        '''\n",
    "        pre_feature = node.feature\n",
    "        node = node.next\n",
    "    return word[1:]"
   ]
  },
  {
   "cell_type": "code",
   "execution_count": 12,
   "metadata": {},
   "outputs": [],
   "source": [
    "def create_traindata(data_path, stopwords_path, save_path):\n",
    "    ## csvの読み込み\n",
    "    #df = pd.read_csv(data_path, encoding='utf-8', dtype={'Rating Score':'float'})\n",
    "    df = pd.read_csv(data_path, encoding='utf-8')\n",
    "    \n",
    "    ## lists of reviews and titles\n",
    "    reviews_list = df['reviews'].T.tolist()\n",
    "    titles_list = df['title'].T.tolist()\n",
    "    \n",
    "    ## stopword\n",
    "    stopwords_df = pd.read_csv(stopwords_path, encoding='utf-8')\n",
    "    stopwords_list = stopwords_df.T.values.tolist()[0]\n",
    "    stopwords_list.append(\"*\")\n",
    "    \n",
    "    ## make training data\n",
    "    splitted_reviews = [analysis(reviews).split(' ') for i, reviews in enumerate(reviews_list)]\n",
    "    without_stopwords = []\n",
    "    for i in range(len(splitted_reviews)):\n",
    "        without_stopwords.append([word for word in splitted_reviews[i] if word not in stopwords_list])\n",
    "    \n",
    "    trainings = \"\"\n",
    "\n",
    "    for i in range(len(without_stopwords)):\n",
    "        if not without_stopwords[i]:\n",
    "            continue\n",
    "        trainings += \" __label__\" + str(i) + \", \" + ' '.join(without_stopwords[i]) + \"\\n\"\n",
    "    # print(trainings)\n",
    "    \n",
    "    with open(save_path, mode='w') as f:\n",
    "       f.write(trainings)"
   ]
  },
  {
   "cell_type": "code",
   "execution_count": 13,
   "metadata": {},
   "outputs": [],
   "source": [
    "def make_model(trainings_path, myFastText_path):\n",
    "    # save model\n",
    "    model = fasttext.train_supervised(input=trainings_path, epoch=2000, dim=300, loss=\"hs\")\n",
    "    model.save_model(myFastText_path)"
   ]
  },
  {
   "cell_type": "code",
   "execution_count": 14,
   "metadata": {},
   "outputs": [],
   "source": [
    "def myFastText(data_path, stopwords_path, myFastText_path):\n",
    "    create_traindata(data_path, stopwords_path, 'data/testdata.txt')\n",
    "    make_model('data/testdata.txt', myFastText_path)"
   ]
  },
  {
   "cell_type": "code",
   "execution_count": 74,
   "metadata": {},
   "outputs": [],
   "source": [
    "myFastText('data/1005data.csv', 'data/stopwords.csv', 'data/model')"
   ]
  },
  {
   "cell_type": "code",
   "execution_count": 15,
   "metadata": {},
   "outputs": [],
   "source": [
    "def predict(data_path, model_path, word, k):\n",
    "    \n",
    "    df = pd.read_csv(data_path, encoding='utf-8')\n",
    "    titles_list = df['title'].T.tolist()\n",
    "    \n",
    "    model = fasttext.load_model(model_path)\n",
    "    result = model.predict(word, k)\n",
    "    for i in range(min([k, len(result[0])])):\n",
    "        label = int(result[0][i].replace(\"__label__\" , \"\").replace(\",\" , \"\"))\n",
    "        print(str(label) + \" : \" + titles_list[label] + \" : \" + str(result[1][i]))"
   ]
  },
  {
   "cell_type": "code",
   "execution_count": 16,
   "metadata": {},
   "outputs": [
    {
     "name": "stdout",
     "output_type": "stream",
     "text": [
      "163 : 幸福な囚人 : 0.061527930200099945\n",
      "275 : 漫画誕生 : 0.060788843780756\n",
      "758 : シュヴァルの理想宮 ある郵便配達員の夢 : 0.06016926467418671\n",
      "357 : M／村西とおる狂熱の日々　完全版 : 0.05852575972676277\n",
      "306 : トラップ　劇場版 : 0.0576302707195282\n",
      "899 : こおろぎ : 0.05676787719130516\n",
      "892 : エッシャー　視覚の魔術師 : 0.05672869458794594\n",
      "504 : この世界の（さらにいくつもの）片隅に : 0.05635904520750046\n",
      "160 : 王と道化師たち : 0.05532108619809151\n",
      "759 : ワイン・コーリング : 0.05531885847449303\n",
      "888 : エッシャー　視覚の魔術師 : 0.054669853299856186\n",
      "50 : ジョン・デロリアン : 0.0541025772690773\n",
      "826 : 007／ノー・タイム・トゥ・ダイ : 0.053326208144426346\n",
      "739 : こおろぎ : 0.05278072878718376\n",
      "984 : 記憶屋 あなたを忘れない : 0.05259716138243675\n",
      "960 : ドアロック : 0.05039467662572861\n",
      "476 : アルファ　殺しの権利 : 0.04973023012280464\n",
      "809 : スピード・スクワッド　ひき逃げ専門捜査班 : 0.04746798053383827\n",
      "71 : テルアビブ・オン・ファイア : 0.0008202571771107614\n",
      "389 : プリズナーズ : 0.000422843499109149\n"
     ]
    },
    {
     "name": "stderr",
     "output_type": "stream",
     "text": [
      "\n"
     ]
    }
   ],
   "source": [
    "predict('data/1005data.csv', 'data/model', \"帰りたい\", 20)"
   ]
  },
  {
   "cell_type": "code",
   "execution_count": null,
   "metadata": {},
   "outputs": [],
   "source": []
  }
 ],
 "metadata": {
  "kernelspec": {
   "display_name": "Python 3",
   "language": "python",
   "name": "python3"
  },
  "language_info": {
   "codemirror_mode": {
    "name": "ipython",
    "version": 3
   },
   "file_extension": ".py",
   "mimetype": "text/x-python",
   "name": "python",
   "nbconvert_exporter": "python",
   "pygments_lexer": "ipython3",
   "version": "3.7.3"
  }
 },
 "nbformat": 4,
 "nbformat_minor": 4
}
