{
 "cells": [
  {
   "cell_type": "code",
   "execution_count": 1,
   "metadata": {},
   "outputs": [],
   "source": [
    "import pandas as pd\n",
    "import os\n",
    "import sys\n",
    "import MeCab\n",
    "\n",
    "from sklearn.feature_extraction.text import CountVectorizer\n",
    "from sklearn.feature_extraction.text import TfidfVectorizer"
   ]
  },
  {
   "cell_type": "code",
   "execution_count": 2,
   "metadata": {},
   "outputs": [],
   "source": [
    "#出現の割合の下限値を入力すると，それに満たない語を出力\n",
    "def stop_word_min(corpus, num):\n",
    "    count_vectorizer = CountVectorizer(max_df=num)\n",
    "    X_count = count_vectorizer.fit_transform(corpus)\n",
    "    \n",
    "    return count_vectorizer.get_feature_names()"
   ]
  },
  {
   "cell_type": "code",
   "execution_count": 3,
   "metadata": {},
   "outputs": [],
   "source": [
    "#出現の割合の上限値を入力すると，それを超える語を出力\n",
    "def stop_word_max(corpus, num):\n",
    "    count_vectorizer = CountVectorizer(min_df=num)\n",
    "    X_count = count_vectorizer.fit_transform(corpus)\n",
    "    \n",
    "    return count_vectorizer.get_feature_names()"
   ]
  },
  {
   "cell_type": "code",
   "execution_count": 4,
   "metadata": {},
   "outputs": [
    {
     "data": {
      "text/html": [
       "<div>\n",
       "<style scoped>\n",
       "    .dataframe tbody tr th:only-of-type {\n",
       "        vertical-align: middle;\n",
       "    }\n",
       "\n",
       "    .dataframe tbody tr th {\n",
       "        vertical-align: top;\n",
       "    }\n",
       "\n",
       "    .dataframe thead th {\n",
       "        text-align: right;\n",
       "    }\n",
       "</style>\n",
       "<table border=\"1\" class=\"dataframe\">\n",
       "  <thead>\n",
       "    <tr style=\"text-align: right;\">\n",
       "      <th></th>\n",
       "      <th>index</th>\n",
       "      <th>id</th>\n",
       "      <th>Unnamed: 0.1</th>\n",
       "      <th>title</th>\n",
       "      <th>score</th>\n",
       "      <th>review</th>\n",
       "    </tr>\n",
       "  </thead>\n",
       "  <tbody>\n",
       "    <tr>\n",
       "      <td>0</td>\n",
       "      <td>0</td>\n",
       "      <td>0</td>\n",
       "      <td>0</td>\n",
       "      <td>アナと雪の女王2</td>\n",
       "      <td>3.87</td>\n",
       "      <td>['\\n正直1作目のアナ雪は好きではなかった。もちろん音楽と映像は素晴らしかったしキャラクタ...</td>\n",
       "    </tr>\n",
       "    <tr>\n",
       "      <td>1</td>\n",
       "      <td>1</td>\n",
       "      <td>1</td>\n",
       "      <td>1</td>\n",
       "      <td>ドクター・スリープ</td>\n",
       "      <td>3.52</td>\n",
       "      <td>['\\nあの傑作ホラー、1980年「シャイニング」を劇場公開で観た スタンリー・キューブリッ...</td>\n",
       "    </tr>\n",
       "    <tr>\n",
       "      <td>2</td>\n",
       "      <td>2</td>\n",
       "      <td>2</td>\n",
       "      <td>2</td>\n",
       "      <td>映画 すみっコぐらし とびだす絵本とひみつのコ</td>\n",
       "      <td>4.43</td>\n",
       "      <td>['\\n大人受けした理由は明らかだ。子供向けの映画を作ったのではなく「すみっコの物語」を作っ...</td>\n",
       "    </tr>\n",
       "    <tr>\n",
       "      <td>3</td>\n",
       "      <td>3</td>\n",
       "      <td>3</td>\n",
       "      <td>3</td>\n",
       "      <td>ターミネーター：ニュー・フェイト</td>\n",
       "      <td>3.69</td>\n",
       "      <td>['\\n海外にて鑑賞。新作が公開されるたび期待と不安が入り混じるこのシリーズ。目玉である「T...</td>\n",
       "    </tr>\n",
       "    <tr>\n",
       "      <td>4</td>\n",
       "      <td>4</td>\n",
       "      <td>4</td>\n",
       "      <td>4</td>\n",
       "      <td>シティーハンター THE MOVIE 史上最香のミッション</td>\n",
       "      <td>4.21</td>\n",
       "      <td>['\\nファンから観たCH（公開前なので一切ネタバレないよう書きます）大分前にフランス版を鑑...</td>\n",
       "    </tr>\n",
       "    <tr>\n",
       "      <td>...</td>\n",
       "      <td>...</td>\n",
       "      <td>...</td>\n",
       "      <td>...</td>\n",
       "      <td>...</td>\n",
       "      <td>...</td>\n",
       "      <td>...</td>\n",
       "    </tr>\n",
       "    <tr>\n",
       "      <td>998</td>\n",
       "      <td>998</td>\n",
       "      <td>1000</td>\n",
       "      <td>475</td>\n",
       "      <td>THE 有頂天ホテル</td>\n",
       "      <td>3.36</td>\n",
       "      <td>['\\u3000とても良く出来てはいるのですが、大爆笑とか深い感動とかを期待するのもどうかと...</td>\n",
       "    </tr>\n",
       "    <tr>\n",
       "      <td>999</td>\n",
       "      <td>999</td>\n",
       "      <td>1001</td>\n",
       "      <td>476</td>\n",
       "      <td>パージ：アナーキー</td>\n",
       "      <td>3.46</td>\n",
       "      <td>[\"『パージ：アナーキー』(THE PURGE：ANARCHY／2014／米)は､前作同様ジ...</td>\n",
       "    </tr>\n",
       "    <tr>\n",
       "      <td>1000</td>\n",
       "      <td>1000</td>\n",
       "      <td>1002</td>\n",
       "      <td>477</td>\n",
       "      <td>Dear Friends　ディア フレンズ</td>\n",
       "      <td>3.41</td>\n",
       "      <td>['Yoshiの原作がひどいのか､それとも脚本と監督がひどいのかはわからないが､まさしく少女...</td>\n",
       "    </tr>\n",
       "    <tr>\n",
       "      <td>1001</td>\n",
       "      <td>1001</td>\n",
       "      <td>1003</td>\n",
       "      <td>478</td>\n",
       "      <td>エージェント・ウルトラ</td>\n",
       "      <td>3.07</td>\n",
       "      <td>['予告編に騙されることが多いとです（笑）最近も「人生の約束」はがっかりでしたが、今回も見事...</td>\n",
       "    </tr>\n",
       "    <tr>\n",
       "      <td>1002</td>\n",
       "      <td>1002</td>\n",
       "      <td>1004</td>\n",
       "      <td>479</td>\n",
       "      <td>名前</td>\n",
       "      <td>3.78</td>\n",
       "      <td>['津田寛治と駒井蓮のほぼ２人の芝居が中心で進行する。最初、中年男に近づいてきた少女の動機が...</td>\n",
       "    </tr>\n",
       "  </tbody>\n",
       "</table>\n",
       "<p>1003 rows × 6 columns</p>\n",
       "</div>"
      ],
      "text/plain": [
       "      index    id  Unnamed: 0.1                          title score  \\\n",
       "0         0     0             0                       アナと雪の女王2  3.87   \n",
       "1         1     1             1                      ドクター・スリープ  3.52   \n",
       "2         2     2             2        映画 すみっコぐらし とびだす絵本とひみつのコ  4.43   \n",
       "3         3     3             3               ターミネーター：ニュー・フェイト  3.69   \n",
       "4         4     4             4  シティーハンター THE MOVIE 史上最香のミッション  4.21   \n",
       "...     ...   ...           ...                            ...   ...   \n",
       "998     998  1000           475                     THE 有頂天ホテル  3.36   \n",
       "999     999  1001           476                      パージ：アナーキー  3.46   \n",
       "1000   1000  1002           477          Dear Friends　ディア フレンズ  3.41   \n",
       "1001   1001  1003           478                    エージェント・ウルトラ  3.07   \n",
       "1002   1002  1004           479                             名前  3.78   \n",
       "\n",
       "                                                 review  \n",
       "0     ['\\n正直1作目のアナ雪は好きではなかった。もちろん音楽と映像は素晴らしかったしキャラクタ...  \n",
       "1     ['\\nあの傑作ホラー、1980年「シャイニング」を劇場公開で観た スタンリー・キューブリッ...  \n",
       "2     ['\\n大人受けした理由は明らかだ。子供向けの映画を作ったのではなく「すみっコの物語」を作っ...  \n",
       "3     ['\\n海外にて鑑賞。新作が公開されるたび期待と不安が入り混じるこのシリーズ。目玉である「T...  \n",
       "4     ['\\nファンから観たCH（公開前なので一切ネタバレないよう書きます）大分前にフランス版を鑑...  \n",
       "...                                                 ...  \n",
       "998   ['\\u3000とても良く出来てはいるのですが、大爆笑とか深い感動とかを期待するのもどうかと...  \n",
       "999   [\"『パージ：アナーキー』(THE PURGE：ANARCHY／2014／米)は､前作同様ジ...  \n",
       "1000  ['Yoshiの原作がひどいのか､それとも脚本と監督がひどいのかはわからないが､まさしく少女...  \n",
       "1001  ['予告編に騙されることが多いとです（笑）最近も「人生の約束」はがっかりでしたが、今回も見事...  \n",
       "1002  ['津田寛治と駒井蓮のほぼ２人の芝居が中心で進行する。最初、中年男に近づいてきた少女の動機が...  \n",
       "\n",
       "[1003 rows x 6 columns]"
      ]
     },
     "execution_count": 4,
     "metadata": {},
     "output_type": "execute_result"
    }
   ],
   "source": [
    "review_df = pd.read_csv(\"1005data.csv\")\n",
    "review_df = review_df.rename(columns={'Unnamed: 0':'index', 'title':'title', 'rate':'score', 'reviews':'review'}) \n",
    "review_df"
   ]
  },
  {
   "cell_type": "code",
   "execution_count": 5,
   "metadata": {},
   "outputs": [],
   "source": [
    "def analyze(text):\n",
    "    tagger = MeCab.Tagger(\"-Ochasen\")\n",
    "    tagger.parse('')\n",
    "    node = tagger.parseToNode(text)\n",
    "    wakati = ''\n",
    "    while node:\n",
    "        word = node.surface\n",
    "        wclass = node.feature.split(',')\n",
    "        #mecabは以下の順でnode.featureに情報を入れる　[0]品詞,[1]品詞細分類1,[2]品詞細分類2,[3]品詞細分類3,[4]活用形,[5]活用型,[6]原形,[7]読み,[8]発音\n",
    "        if (\n",
    "            #wclass[0] == '記号' or\n",
    "            wclass[0] == '形容詞' or\n",
    "            #wclass[0] == '助詞' or\n",
    "            #wclass[0] == '助動詞' or\n",
    "            #wclass[0] == '接続詞' or\n",
    "            #wclass[0] == '接頭詞' or\n",
    "            wclass[0] == '動詞' or\n",
    "            #wclass[0] == '副詞' or \n",
    "            wclass[0] == '名詞'\n",
    "            #wclass[0] == '連体詞'\n",
    "        ):\n",
    "            if wclass[6] != '*':\n",
    "                wakati += wclass[6] + ' '\n",
    "        node = node.next\n",
    "    return wakati\n"
   ]
  },
  {
   "cell_type": "code",
   "execution_count": 6,
   "metadata": {},
   "outputs": [],
   "source": [
    "def make_data(pd):\n",
    "    training = []\n",
    "    for index in pd.index:\n",
    "        sent = analyze(pd.at[index,'review'])\n",
    "        training.append(sent)\n",
    "    \n",
    "    return training"
   ]
  },
  {
   "cell_type": "code",
   "execution_count": 14,
   "metadata": {},
   "outputs": [],
   "source": [
    "swmin=stop_word_min(make_data(review_df),0.001)"
   ]
  },
  {
   "cell_type": "code",
   "execution_count": 18,
   "metadata": {},
   "outputs": [],
   "source": [
    "swmax=stop_word_max(make_data(review_df),0.50)"
   ]
  },
  {
   "cell_type": "code",
   "execution_count": 16,
   "metadata": {},
   "outputs": [
    {
     "data": {
      "text/plain": [
       "9782"
      ]
     },
     "execution_count": 16,
     "metadata": {},
     "output_type": "execute_result"
    }
   ],
   "source": [
    "len(swmin)"
   ]
  },
  {
   "cell_type": "code",
   "execution_count": 19,
   "metadata": {},
   "outputs": [
    {
     "data": {
      "text/plain": [
       "246"
      ]
     },
     "execution_count": 19,
     "metadata": {},
     "output_type": "execute_result"
    }
   ],
   "source": [
    "len(swmax)"
   ]
  },
  {
   "cell_type": "code",
   "execution_count": null,
   "metadata": {},
   "outputs": [],
   "source": []
  }
 ],
 "metadata": {
  "kernelspec": {
   "display_name": "Python 3",
   "language": "python",
   "name": "python3"
  },
  "language_info": {
   "codemirror_mode": {
    "name": "ipython",
    "version": 3
   },
   "file_extension": ".py",
   "mimetype": "text/x-python",
   "name": "python",
   "nbconvert_exporter": "python",
   "pygments_lexer": "ipython3",
   "version": "3.7.4"
  }
 },
 "nbformat": 4,
 "nbformat_minor": 4
}
