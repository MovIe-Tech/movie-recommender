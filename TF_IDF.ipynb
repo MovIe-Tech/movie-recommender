{
 "cells": [
  {
   "cell_type": "code",
   "execution_count": 79,
   "metadata": {},
   "outputs": [],
   "source": [
    "import pandas as pd\n",
    "import os\n",
    "import sys\n",
    "import MeCab\n",
    "\n",
    "from sklearn.feature_extraction.text import CountVectorizer\n",
    "from sklearn.feature_extraction.text import TfidfVectorizer\n",
    "# データフレームを表示するときカラムを省略しない\n",
    "pd.set_option('display.max_columns', None)\n",
    "# 浮動小数点を表示するときは小数点以下 2 桁で揃える\n",
    "pd.options.display.float_format = '{:0.2f}'.format"
   ]
  },
  {
   "cell_type": "code",
   "execution_count": 93,
   "metadata": {},
   "outputs": [],
   "source": [
    "def word_count(corpus):\n",
    "    # 単語の数をカウントする\n",
    "    count_vectorizer = CountVectorizer()\n",
    "    X_count = count_vectorizer.fit_transform(corpus)\n",
    "\n",
    "    # 見やすさのために表示するときは pandas のデータフレームにする\n",
    "    df = pd.DataFrame(data=X_count.toarray(),\n",
    "                      columns=count_vectorizer.get_feature_names())\n",
    "    return X_count.toarray()"
   ]
  },
  {
   "cell_type": "code",
   "execution_count": 81,
   "metadata": {},
   "outputs": [],
   "source": [
    "def tf_idf(corpus):\n",
    "    # scikit-learn の TF-IDF 実装\n",
    "    tfidf_vectorizer = TfidfVectorizer()\n",
    "    X_tfidf = tfidf_vectorizer.fit_transform(corpus)\n",
    "\n",
    "    # TF-IDF を表示する\n",
    "    df = pd.DataFrame(data=X_tfidf.toarray(),\n",
    "                      columns=tfidf_vectorizer.get_feature_names())\n",
    "    return df"
   ]
  },
  {
   "cell_type": "code",
   "execution_count": 82,
   "metadata": {},
   "outputs": [],
   "source": [
    "def word_tf_idf(review_df,tfidf_df,word):\n",
    "    sorted=tfidf_df.loc[:,[word]].sort_values(word,ascending=False)\n",
    "    for i in list(sorted.index):\n",
    "        if tfidf_df.at[i,word] == 0:\n",
    "            break\n",
    "        print(str(review_df.at[i,'title'])+' : '+str(tfidf_df.at[i,word]))"
   ]
  },
  {
   "cell_type": "code",
   "execution_count": 83,
   "metadata": {},
   "outputs": [
    {
     "data": {
      "text/html": [
       "<div>\n",
       "<style scoped>\n",
       "    .dataframe tbody tr th:only-of-type {\n",
       "        vertical-align: middle;\n",
       "    }\n",
       "\n",
       "    .dataframe tbody tr th {\n",
       "        vertical-align: top;\n",
       "    }\n",
       "\n",
       "    .dataframe thead th {\n",
       "        text-align: right;\n",
       "    }\n",
       "</style>\n",
       "<table border=\"1\" class=\"dataframe\">\n",
       "  <thead>\n",
       "    <tr style=\"text-align: right;\">\n",
       "      <th></th>\n",
       "      <th>index</th>\n",
       "      <th>title</th>\n",
       "      <th>score</th>\n",
       "      <th>review</th>\n",
       "    </tr>\n",
       "  </thead>\n",
       "  <tbody>\n",
       "    <tr>\n",
       "      <td>0</td>\n",
       "      <td>0</td>\n",
       "      <td>アフタースクール</td>\n",
       "      <td>4.09</td>\n",
       "      <td>['レビュアー試写会に何気なく応募したら何気なく当選。ありがとう！と感謝しながら４月２３日、...</td>\n",
       "    </tr>\n",
       "    <tr>\n",
       "      <td>1</td>\n",
       "      <td>1</td>\n",
       "      <td>シュガー・ラッシュ</td>\n",
       "      <td>4.17</td>\n",
       "      <td>['いきなり、評価ですが、今作は、苦汁の結論ですが、敢えて☆４つ。他のレビュアーとは、異なる...</td>\n",
       "    </tr>\n",
       "    <tr>\n",
       "      <td>2</td>\n",
       "      <td>2</td>\n",
       "      <td>コルボッコロ</td>\n",
       "      <td>2.14</td>\n",
       "      <td>['コルボッコロ、監督コメント付きで観て来た。コルボッコロ、言いづらいわ！鈴とコルボッコロの...</td>\n",
       "    </tr>\n",
       "    <tr>\n",
       "      <td>3</td>\n",
       "      <td>3</td>\n",
       "      <td>ロサンゼルス女子刑務所</td>\n",
       "      <td>2.24</td>\n",
       "      <td>['\\u3000…あらすじは解説のとおりと書こうと思ったら空欄で、レビュー数は未だ0件だ。\\...</td>\n",
       "    </tr>\n",
       "    <tr>\n",
       "      <td>4</td>\n",
       "      <td>4</td>\n",
       "      <td>雪の華</td>\n",
       "      <td>2.97</td>\n",
       "      <td>['この作品、正直に言ってしまうと、ありえないことだらけなんですよ。予告編やオフィシャルサイ...</td>\n",
       "    </tr>\n",
       "    <tr>\n",
       "      <td>...</td>\n",
       "      <td>...</td>\n",
       "      <td>...</td>\n",
       "      <td>...</td>\n",
       "      <td>...</td>\n",
       "    </tr>\n",
       "    <tr>\n",
       "      <td>475</td>\n",
       "      <td>475</td>\n",
       "      <td>THE 有頂天ホテル</td>\n",
       "      <td>3.36</td>\n",
       "      <td>['\\u3000とても良く出来てはいるのですが、大爆笑とか深い感動とかを期待するのもどうかと...</td>\n",
       "    </tr>\n",
       "    <tr>\n",
       "      <td>476</td>\n",
       "      <td>476</td>\n",
       "      <td>パージ：アナーキー</td>\n",
       "      <td>3.46</td>\n",
       "      <td>[\"『パージ：アナーキー』(THE PURGE：ANARCHY／2014／米)は､前作同様ジ...</td>\n",
       "    </tr>\n",
       "    <tr>\n",
       "      <td>477</td>\n",
       "      <td>477</td>\n",
       "      <td>Dear Friends　ディア フレンズ</td>\n",
       "      <td>3.41</td>\n",
       "      <td>['Yoshiの原作がひどいのか､それとも脚本と監督がひどいのかはわからないが､まさしく少女...</td>\n",
       "    </tr>\n",
       "    <tr>\n",
       "      <td>478</td>\n",
       "      <td>478</td>\n",
       "      <td>エージェント・ウルトラ</td>\n",
       "      <td>3.07</td>\n",
       "      <td>['予告編に騙されることが多いとです（笑）最近も「人生の約束」はがっかりでしたが、今回も見事...</td>\n",
       "    </tr>\n",
       "    <tr>\n",
       "      <td>479</td>\n",
       "      <td>479</td>\n",
       "      <td>名前</td>\n",
       "      <td>3.78</td>\n",
       "      <td>['津田寛治と駒井蓮のほぼ２人の芝居が中心で進行する。最初、中年男に近づいてきた少女の動機が...</td>\n",
       "    </tr>\n",
       "  </tbody>\n",
       "</table>\n",
       "<p>480 rows × 4 columns</p>\n",
       "</div>"
      ],
      "text/plain": [
       "     index                  title score  \\\n",
       "0        0               アフタースクール  4.09   \n",
       "1        1              シュガー・ラッシュ  4.17   \n",
       "2        2                 コルボッコロ  2.14   \n",
       "3        3            ロサンゼルス女子刑務所  2.24   \n",
       "4        4                    雪の華  2.97   \n",
       "..     ...                    ...   ...   \n",
       "475    475             THE 有頂天ホテル  3.36   \n",
       "476    476              パージ：アナーキー  3.46   \n",
       "477    477  Dear Friends　ディア フレンズ  3.41   \n",
       "478    478            エージェント・ウルトラ  3.07   \n",
       "479    479                     名前  3.78   \n",
       "\n",
       "                                                review  \n",
       "0    ['レビュアー試写会に何気なく応募したら何気なく当選。ありがとう！と感謝しながら４月２３日、...  \n",
       "1    ['いきなり、評価ですが、今作は、苦汁の結論ですが、敢えて☆４つ。他のレビュアーとは、異なる...  \n",
       "2    ['コルボッコロ、監督コメント付きで観て来た。コルボッコロ、言いづらいわ！鈴とコルボッコロの...  \n",
       "3    ['\\u3000…あらすじは解説のとおりと書こうと思ったら空欄で、レビュー数は未だ0件だ。\\...  \n",
       "4    ['この作品、正直に言ってしまうと、ありえないことだらけなんですよ。予告編やオフィシャルサイ...  \n",
       "..                                                 ...  \n",
       "475  ['\\u3000とても良く出来てはいるのですが、大爆笑とか深い感動とかを期待するのもどうかと...  \n",
       "476  [\"『パージ：アナーキー』(THE PURGE：ANARCHY／2014／米)は､前作同様ジ...  \n",
       "477  ['Yoshiの原作がひどいのか､それとも脚本と監督がひどいのかはわからないが､まさしく少女...  \n",
       "478  ['予告編に騙されることが多いとです（笑）最近も「人生の約束」はがっかりでしたが、今回も見事...  \n",
       "479  ['津田寛治と駒井蓮のほぼ２人の芝居が中心で進行する。最初、中年男に近づいてきた少女の動機が...  \n",
       "\n",
       "[480 rows x 4 columns]"
      ]
     },
     "execution_count": 83,
     "metadata": {},
     "output_type": "execute_result"
    }
   ],
   "source": [
    "review_df = pd.read_csv(\"1005data.csv\")\n",
    "review_df = review_df.rename(columns={'Unnamed: 0':'index', 'Title':'title', 'Rating Score':'score', 'Reviews':'review'}) \n",
    "review_df"
   ]
  },
  {
   "cell_type": "code",
   "execution_count": 84,
   "metadata": {},
   "outputs": [],
   "source": [
    "def analyze(text):\n",
    "    tagger = MeCab.Tagger(\"-Ochasen\")\n",
    "    tagger.parse('')\n",
    "    node = tagger.parseToNode(text)\n",
    "    wakati = ''\n",
    "    while node:\n",
    "        word = node.surface\n",
    "        wclass = node.feature.split(',')\n",
    "        #mecabは以下の順でnode.featureに情報を入れる　[0]品詞,[1]品詞細分類1,[2]品詞細分類2,[3]品詞細分類3,[4]活用形,[5]活用型,[6]原形,[7]読み,[8]発音\n",
    "        if (\n",
    "            #wclass[0] == '記号' or\n",
    "            wclass[0] == '形容詞' or\n",
    "            #wclass[0] == '助詞' or\n",
    "            #wclass[0] == '助動詞' or\n",
    "            #wclass[0] == '接続詞' or\n",
    "            #wclass[0] == '接頭詞' or\n",
    "            wclass[0] == '動詞' or\n",
    "            #wclass[0] == '副詞' or \n",
    "            wclass[0] == '名詞'\n",
    "            #wclass[0] == '連体詞'\n",
    "        ):\n",
    "            if wclass[6] != '*':\n",
    "                wakati += wclass[6] + ' '\n",
    "        node = node.next\n",
    "    return wakati\n"
   ]
  },
  {
   "cell_type": "code",
   "execution_count": 85,
   "metadata": {},
   "outputs": [],
   "source": [
    "def make_data(pd):\n",
    "    training = []\n",
    "    for index in pd.index:\n",
    "        sent = analyze(pd.at[index,'review'])\n",
    "        training.append(sent)\n",
    "    \n",
    "    return training"
   ]
  },
  {
   "cell_type": "code",
   "execution_count": 94,
   "metadata": {},
   "outputs": [
    {
     "data": {
      "text/plain": [
       "array([[0, 0, 0, ..., 0, 0, 0],\n",
       "       [0, 0, 0, ..., 0, 0, 0],\n",
       "       [0, 0, 0, ..., 0, 0, 0],\n",
       "       ...,\n",
       "       [0, 0, 0, ..., 0, 0, 0],\n",
       "       [0, 0, 0, ..., 0, 0, 0],\n",
       "       [0, 0, 0, ..., 0, 0, 0]])"
      ]
     },
     "execution_count": 94,
     "metadata": {},
     "output_type": "execute_result"
    }
   ],
   "source": []
  },
  {
   "cell_type": "code",
   "execution_count": 87,
   "metadata": {},
   "outputs": [],
   "source": [
    "tfidf_df = tf_idf(make_data(review_df))"
   ]
  },
  {
   "cell_type": "code",
   "execution_count": 95,
   "metadata": {},
   "outputs": [
    {
     "name": "stdout",
     "output_type": "stream",
     "text": [
      "グーニーズ : 0.36672092613576024\n",
      "ペット : 0.09494893602708794\n",
      "ハン・ソロ／スター・ウォーズ・ストーリー : 0.04831776898207306\n",
      "くるみ割り人形と秘密の王国 : 0.043032594683746844\n",
      "エージェント・ウルトラ : 0.037874640347930665\n",
      "テラビシアにかける橋 : 0.02922029903019794\n",
      "シュガー・ラッシュ : 0.028288286011858104\n",
      "ANEMONE／交響詩篇エウレカセブン　ハイエボリューション : 0.027810925790913574\n",
      "花とアリス殺人事件 : 0.027319531459452776\n",
      "ディセント : 0.02496754417233589\n",
      "トータル・リコール : 0.021602979607569992\n",
      "バック・トゥ・ザ・フューチャー : 0.020863982809116166\n",
      "ナインスゲート : 0.019873157558793826\n",
      "ボス・ベイビー : 0.01965856977796489\n",
      "ボス・ベイビー : 0.01965856977796489\n",
      "映画クレヨンしんちゃん　ガチンコ！逆襲のロボとーちゃん : 0.019131278954736163\n",
      "デビルマン : 0.01855303318616348\n",
      "海賊じいちゃんの贈りもの : 0.015544629428763314\n",
      "Shall we ダンス？ : 0.014454529196663441\n",
      "トータル・リコール : 0.012973971364043293\n",
      "ライフ・オブ・パイ／トラと漂流した227日 : 0.012474641684316097\n",
      "おおかみこどもの雨と雪 : 0.012364466237944486\n",
      "蛇にピアス : 0.011955595603435341\n",
      "蛇にピアス : 0.011955595603435341\n",
      "蛇にピアス : 0.011955595603435341\n",
      "キャスト・アウェイ : 0.0119399580196036\n",
      "ホットロード : 0.011851716155916969\n",
      "ブラック会社に勤めてるんだが、もう俺は限界かもしれない : 0.01159149157046841\n",
      "プリデスティネーション : 0.011334550074235887\n",
      "ぼくたちと駐在さんの700日戦争 : 0.010870452073983189\n",
      "ファンタスティック・ビーストと黒い魔法使いの誕生 : 0.010862987760847643\n",
      "硫黄島からの手紙 : 0.010164377751865522\n",
      "心が叫びたがってるんだ。 : 0.0101280141283942\n",
      "モンスター : 0.010103084055625478\n",
      "ノルウェイの森 : 0.009439334892514842\n",
      "レヴェナント：蘇えりし者 : 0.009025077563055553\n",
      "映画クレヨンしんちゃん　嵐を呼ぶアッパレ！戦国大合戦 : 0.008240648020567275\n",
      "千と千尋の神隠し : 0.006571898036662828\n",
      "千と千尋の神隠し : 0.006571898036662828\n"
     ]
    }
   ],
   "source": [
    "word_tf_idf(review_df,tfidf_df,\"冒険\")"
   ]
  },
  {
   "cell_type": "code",
   "execution_count": null,
   "metadata": {},
   "outputs": [],
   "source": []
  },
  {
   "cell_type": "code",
   "execution_count": null,
   "metadata": {},
   "outputs": [],
   "source": []
  },
  {
   "cell_type": "code",
   "execution_count": null,
   "metadata": {},
   "outputs": [],
   "source": []
  }
 ],
 "metadata": {
  "kernelspec": {
   "display_name": "Python 3",
   "language": "python",
   "name": "python3"
  },
  "language_info": {
   "codemirror_mode": {
    "name": "ipython",
    "version": 3
   },
   "file_extension": ".py",
   "mimetype": "text/x-python",
   "name": "python",
   "nbconvert_exporter": "python",
   "pygments_lexer": "ipython3",
   "version": "3.7.4"
  }
 },
 "nbformat": 4,
 "nbformat_minor": 4
}
